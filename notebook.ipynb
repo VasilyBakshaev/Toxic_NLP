{
  "cells": [
    {
      "cell_type": "markdown",
      "metadata": {
        "id": "NUmx0-j193Wn"
      },
      "source": [
        "# Creating a model for classifying toxic texts."
      ]
    },
    {
      "cell_type": "markdown",
      "metadata": {
        "id": "m_c6f2aPmK0-"
      },
      "source": [
        "**Description**\n",
        "\n",
        "- The purpose of the work is to train a binary classification model that can determine whether a text is toxic or not.  \n",
        "- The Keggle dataset will be used as a training dataset.  \n",
        "- Lemmatization of the text will be carried out using the nltk library.\n",
        "- The preparation of features from the text will be carried out by the TF-IDF method.  \n",
        "- As a model, let's try gradient boosting (CatBoost) and a naive bayes model.  \n",
        "- The saved trained model will be deployed to the streamlit site as an interactive web application.\n",
        "\n",
        "**References**\n",
        "\n",
        "- Train dataset: https://www.kaggle.com/datasets/ashwiniyer176/toxic-tweets-dataset?resource=download"
      ]
    },
    {
      "cell_type": "markdown",
      "metadata": {
        "id": "C4tnc4of98x7"
      },
      "source": [
        "## Imports"
      ]
    },
    {
      "cell_type": "code",
      "execution_count": 1,
      "metadata": {
        "colab": {
          "base_uri": "https://localhost:8080/"
        },
        "id": "gjsIasytmRwV",
        "outputId": "6436bd4b-3aa2-427f-8414-7bce0a6bb13d"
      },
      "outputs": [
        {
          "output_type": "stream",
          "name": "stdout",
          "text": [
            "Looking in indexes: https://pypi.org/simple, https://us-python.pkg.dev/colab-wheels/public/simple/\n",
            "Requirement already satisfied: catboost in /usr/local/lib/python3.8/dist-packages (1.1.1)\n",
            "Requirement already satisfied: numpy>=1.16.0 in /usr/local/lib/python3.8/dist-packages (from catboost) (1.21.6)\n",
            "Requirement already satisfied: six in /usr/local/lib/python3.8/dist-packages (from catboost) (1.15.0)\n",
            "Requirement already satisfied: pandas>=0.24.0 in /usr/local/lib/python3.8/dist-packages (from catboost) (1.3.5)\n",
            "Requirement already satisfied: scipy in /usr/local/lib/python3.8/dist-packages (from catboost) (1.7.3)\n",
            "Requirement already satisfied: plotly in /usr/local/lib/python3.8/dist-packages (from catboost) (5.5.0)\n",
            "Requirement already satisfied: graphviz in /usr/local/lib/python3.8/dist-packages (from catboost) (0.10.1)\n",
            "Requirement already satisfied: matplotlib in /usr/local/lib/python3.8/dist-packages (from catboost) (3.2.2)\n",
            "Requirement already satisfied: pytz>=2017.3 in /usr/local/lib/python3.8/dist-packages (from pandas>=0.24.0->catboost) (2022.6)\n",
            "Requirement already satisfied: python-dateutil>=2.7.3 in /usr/local/lib/python3.8/dist-packages (from pandas>=0.24.0->catboost) (2.8.2)\n",
            "Requirement already satisfied: cycler>=0.10 in /usr/local/lib/python3.8/dist-packages (from matplotlib->catboost) (0.11.0)\n",
            "Requirement already satisfied: pyparsing!=2.0.4,!=2.1.2,!=2.1.6,>=2.0.1 in /usr/local/lib/python3.8/dist-packages (from matplotlib->catboost) (3.0.9)\n",
            "Requirement already satisfied: kiwisolver>=1.0.1 in /usr/local/lib/python3.8/dist-packages (from matplotlib->catboost) (1.4.4)\n",
            "Requirement already satisfied: tenacity>=6.2.0 in /usr/local/lib/python3.8/dist-packages (from plotly->catboost) (8.1.0)\n"
          ]
        }
      ],
      "source": [
        "!pip install catboost"
      ]
    },
    {
      "cell_type": "code",
      "execution_count": 2,
      "metadata": {
        "colab": {
          "base_uri": "https://localhost:8080/"
        },
        "id": "aLYjmfH7mWXF",
        "outputId": "4514ab2c-a698-41fc-8265-5773d9870df8"
      },
      "outputs": [
        {
          "output_type": "stream",
          "name": "stderr",
          "text": [
            "[nltk_data] Downloading package punkt to /root/nltk_data...\n",
            "[nltk_data]   Package punkt is already up-to-date!\n",
            "[nltk_data] Downloading package omw-1.4 to /root/nltk_data...\n",
            "[nltk_data]   Package omw-1.4 is already up-to-date!\n",
            "[nltk_data] Downloading package wordnet to /root/nltk_data...\n",
            "[nltk_data]   Package wordnet is already up-to-date!\n",
            "[nltk_data] Downloading package stopwords to /root/nltk_data...\n",
            "[nltk_data]   Package stopwords is already up-to-date!\n",
            "[nltk_data] Downloading package averaged_perceptron_tagger to\n",
            "[nltk_data]     /root/nltk_data...\n",
            "[nltk_data]   Package averaged_perceptron_tagger is already up-to-\n",
            "[nltk_data]       date!\n"
          ]
        }
      ],
      "source": [
        "from google.colab import drive\n",
        "\n",
        "import pandas as pd\n",
        "import numpy as np\n",
        "import matplotlib.pyplot as plt\n",
        "import pickle\n",
        "import re\n",
        "\n",
        "from collections import Counter\n",
        "from itertools import chain\n",
        "\n",
        "import nltk\n",
        "nltk.download('punkt')\n",
        "nltk.download('omw-1.4')\n",
        "nltk.download('wordnet')\n",
        "nltk.download('stopwords')\n",
        "nltk.download('averaged_perceptron_tagger')\n",
        "from nltk import WordNetLemmatizer\n",
        "from nltk import pos_tag, word_tokenize\n",
        "from nltk.corpus import stopwords as nltk_stopwords\n",
        "from nltk.corpus import wordnet\n",
        "\n",
        "\n",
        "from sklearn.feature_extraction.text import TfidfVectorizer\n",
        "\n",
        "from catboost import CatBoostClassifier\n",
        "\n",
        "from sklearn.metrics import roc_auc_score\n",
        "from sklearn.metrics import roc_curve\n",
        "from sklearn.model_selection import train_test_split\n",
        "\n",
        "from sklearn.naive_bayes import MultinomialNB"
      ]
    },
    {
      "cell_type": "markdown",
      "metadata": {
        "id": "z_CD_nTy-BuU"
      },
      "source": [
        "## Loading data"
      ]
    },
    {
      "cell_type": "code",
      "execution_count": 3,
      "metadata": {
        "colab": {
          "base_uri": "https://localhost:8080/"
        },
        "id": "N4gRxGH9mfSE",
        "outputId": "1ad2ecdf-4bb1-44c6-d330-64d761006686"
      },
      "outputs": [
        {
          "output_type": "stream",
          "name": "stdout",
          "text": [
            "Drive already mounted at /content/drive; to attempt to forcibly remount, call drive.mount(\"/content/drive\", force_remount=True).\n"
          ]
        }
      ],
      "source": [
        "drive.mount('/content/drive')"
      ]
    },
    {
      "cell_type": "code",
      "execution_count": 4,
      "metadata": {
        "id": "1bubY_-9mh75"
      },
      "outputs": [],
      "source": [
        "df = pd.read_csv('/content/drive/MyDrive/Datasets/toxic_tweet_db.csv', index_col=0)"
      ]
    },
    {
      "cell_type": "code",
      "source": [
        "df.info()"
      ],
      "metadata": {
        "colab": {
          "base_uri": "https://localhost:8080/"
        },
        "id": "bijVkQ4sGru1",
        "outputId": "247f4e5e-c2b9-4bc5-b7f1-412156ddc29a"
      },
      "execution_count": 5,
      "outputs": [
        {
          "output_type": "stream",
          "name": "stdout",
          "text": [
            "<class 'pandas.core.frame.DataFrame'>\n",
            "Int64Index: 56745 entries, 0 to 56744\n",
            "Data columns (total 2 columns):\n",
            " #   Column    Non-Null Count  Dtype \n",
            "---  ------    --------------  ----- \n",
            " 0   Toxicity  56745 non-null  int64 \n",
            " 1   tweet     56745 non-null  object\n",
            "dtypes: int64(1), object(1)\n",
            "memory usage: 1.3+ MB\n"
          ]
        }
      ]
    },
    {
      "cell_type": "code",
      "source": [
        "print(f\"{round(df['Toxicity'].mean()*100, 2)}% texts is toxic.\")"
      ],
      "metadata": {
        "colab": {
          "base_uri": "https://localhost:8080/"
        },
        "id": "0e_-01fAG1Qu",
        "outputId": "acf72ef6-2e11-46c5-b089-72d9b401ce8e"
      },
      "execution_count": 6,
      "outputs": [
        {
          "output_type": "stream",
          "name": "stdout",
          "text": [
            "42.56% texts is toxic.\n"
          ]
        }
      ]
    },
    {
      "cell_type": "markdown",
      "metadata": {
        "id": "MEBNtFSp-3o6"
      },
      "source": [
        "## Data preparation"
      ]
    },
    {
      "cell_type": "markdown",
      "metadata": {
        "id": "3TJwdjgAqwTW"
      },
      "source": [
        "Let's state a preparation function and lemmatizer variable"
      ]
    },
    {
      "cell_type": "code",
      "execution_count": 7,
      "metadata": {
        "id": "3_R4dILmu5Ko"
      },
      "outputs": [],
      "source": [
        "wnl = WordNetLemmatizer()"
      ]
    },
    {
      "cell_type": "code",
      "execution_count": 8,
      "metadata": {
        "id": "XSLxIcPVrgd6"
      },
      "outputs": [],
      "source": [
        "def prepare_text(text):\n",
        "    def get_wordnet_pos(treebank_tag):\n",
        "        if treebank_tag.startswith('J'):\n",
        "            return wordnet.ADJ\n",
        "        elif treebank_tag.startswith('V'):\n",
        "            return wordnet.VERB\n",
        "        elif treebank_tag.startswith('N'):\n",
        "            return wordnet.NOUN\n",
        "        elif treebank_tag.startswith('R'):\n",
        "            return wordnet.ADV\n",
        "        else:\n",
        "            return wordnet.NOUN\n",
        "    text = re.sub(r'[^a-zA-Z\\']', ' ', text)\n",
        "    text = text.split()\n",
        "    text = ' '.join(text)\n",
        "    text = word_tokenize(text)\n",
        "    text = pos_tag(text)\n",
        "    lem = []\n",
        "    for i in text: lem.append(wnl.lemmatize(i[0], pos = get_wordnet_pos(i[1])))\n",
        "    lem = ' '.join(lem)\n",
        "    return lem"
      ]
    },
    {
      "cell_type": "code",
      "execution_count": 9,
      "metadata": {
        "colab": {
          "base_uri": "https://localhost:8080/"
        },
        "id": "EvUpaeY2ti7x",
        "outputId": "0d0876c5-3ad0-46c0-c158-83f9b085f91c"
      },
      "outputs": [
        {
          "output_type": "stream",
          "name": "stdout",
          "text": [
            "CPU times: user 1min 19s, sys: 1.3 s, total: 1min 20s\n",
            "Wall time: 1min 27s\n"
          ]
        }
      ],
      "source": [
        "%%time\n",
        "df['tweet_lem'] = df['tweet'].apply(lambda x: prepare_text(x))"
      ]
    },
    {
      "cell_type": "code",
      "execution_count": 10,
      "metadata": {
        "colab": {
          "base_uri": "https://localhost:8080/",
          "height": 143
        },
        "id": "ahzh-s_htvlr",
        "outputId": "ed678875-920a-4efa-ed27-6111303f5e94"
      },
      "outputs": [
        {
          "output_type": "execute_result",
          "data": {
            "text/plain": [
              "       Toxicity                                              tweet  \\\n",
              "17306         0   @user more people care about shark week than ...   \n",
              "42700         1  I love you my nigguh but your a grown ass man ...   \n",
              "30726         0  the #boston globe's full front page features a...   \n",
              "\n",
              "                                               tweet_lem  \n",
              "17306  user more people care about shark week than bl...  \n",
              "42700  I love you my nigguh but your a grown as man h...  \n",
              "30726  the boston globe 's full front page feature an...  "
            ],
            "text/html": [
              "\n",
              "  <div id=\"df-fa5fc26e-ae45-4962-a3ea-ddb0147e01c2\">\n",
              "    <div class=\"colab-df-container\">\n",
              "      <div>\n",
              "<style scoped>\n",
              "    .dataframe tbody tr th:only-of-type {\n",
              "        vertical-align: middle;\n",
              "    }\n",
              "\n",
              "    .dataframe tbody tr th {\n",
              "        vertical-align: top;\n",
              "    }\n",
              "\n",
              "    .dataframe thead th {\n",
              "        text-align: right;\n",
              "    }\n",
              "</style>\n",
              "<table border=\"1\" class=\"dataframe\">\n",
              "  <thead>\n",
              "    <tr style=\"text-align: right;\">\n",
              "      <th></th>\n",
              "      <th>Toxicity</th>\n",
              "      <th>tweet</th>\n",
              "      <th>tweet_lem</th>\n",
              "    </tr>\n",
              "  </thead>\n",
              "  <tbody>\n",
              "    <tr>\n",
              "      <th>17306</th>\n",
              "      <td>0</td>\n",
              "      <td>@user more people care about shark week than ...</td>\n",
              "      <td>user more people care about shark week than bl...</td>\n",
              "    </tr>\n",
              "    <tr>\n",
              "      <th>42700</th>\n",
              "      <td>1</td>\n",
              "      <td>I love you my nigguh but your a grown ass man ...</td>\n",
              "      <td>I love you my nigguh but your a grown as man h...</td>\n",
              "    </tr>\n",
              "    <tr>\n",
              "      <th>30726</th>\n",
              "      <td>0</td>\n",
              "      <td>the #boston globe's full front page features a...</td>\n",
              "      <td>the boston globe 's full front page feature an...</td>\n",
              "    </tr>\n",
              "  </tbody>\n",
              "</table>\n",
              "</div>\n",
              "      <button class=\"colab-df-convert\" onclick=\"convertToInteractive('df-fa5fc26e-ae45-4962-a3ea-ddb0147e01c2')\"\n",
              "              title=\"Convert this dataframe to an interactive table.\"\n",
              "              style=\"display:none;\">\n",
              "        \n",
              "  <svg xmlns=\"http://www.w3.org/2000/svg\" height=\"24px\"viewBox=\"0 0 24 24\"\n",
              "       width=\"24px\">\n",
              "    <path d=\"M0 0h24v24H0V0z\" fill=\"none\"/>\n",
              "    <path d=\"M18.56 5.44l.94 2.06.94-2.06 2.06-.94-2.06-.94-.94-2.06-.94 2.06-2.06.94zm-11 1L8.5 8.5l.94-2.06 2.06-.94-2.06-.94L8.5 2.5l-.94 2.06-2.06.94zm10 10l.94 2.06.94-2.06 2.06-.94-2.06-.94-.94-2.06-.94 2.06-2.06.94z\"/><path d=\"M17.41 7.96l-1.37-1.37c-.4-.4-.92-.59-1.43-.59-.52 0-1.04.2-1.43.59L10.3 9.45l-7.72 7.72c-.78.78-.78 2.05 0 2.83L4 21.41c.39.39.9.59 1.41.59.51 0 1.02-.2 1.41-.59l7.78-7.78 2.81-2.81c.8-.78.8-2.07 0-2.86zM5.41 20L4 18.59l7.72-7.72 1.47 1.35L5.41 20z\"/>\n",
              "  </svg>\n",
              "      </button>\n",
              "      \n",
              "  <style>\n",
              "    .colab-df-container {\n",
              "      display:flex;\n",
              "      flex-wrap:wrap;\n",
              "      gap: 12px;\n",
              "    }\n",
              "\n",
              "    .colab-df-convert {\n",
              "      background-color: #E8F0FE;\n",
              "      border: none;\n",
              "      border-radius: 50%;\n",
              "      cursor: pointer;\n",
              "      display: none;\n",
              "      fill: #1967D2;\n",
              "      height: 32px;\n",
              "      padding: 0 0 0 0;\n",
              "      width: 32px;\n",
              "    }\n",
              "\n",
              "    .colab-df-convert:hover {\n",
              "      background-color: #E2EBFA;\n",
              "      box-shadow: 0px 1px 2px rgba(60, 64, 67, 0.3), 0px 1px 3px 1px rgba(60, 64, 67, 0.15);\n",
              "      fill: #174EA6;\n",
              "    }\n",
              "\n",
              "    [theme=dark] .colab-df-convert {\n",
              "      background-color: #3B4455;\n",
              "      fill: #D2E3FC;\n",
              "    }\n",
              "\n",
              "    [theme=dark] .colab-df-convert:hover {\n",
              "      background-color: #434B5C;\n",
              "      box-shadow: 0px 1px 3px 1px rgba(0, 0, 0, 0.15);\n",
              "      filter: drop-shadow(0px 1px 2px rgba(0, 0, 0, 0.3));\n",
              "      fill: #FFFFFF;\n",
              "    }\n",
              "  </style>\n",
              "\n",
              "      <script>\n",
              "        const buttonEl =\n",
              "          document.querySelector('#df-fa5fc26e-ae45-4962-a3ea-ddb0147e01c2 button.colab-df-convert');\n",
              "        buttonEl.style.display =\n",
              "          google.colab.kernel.accessAllowed ? 'block' : 'none';\n",
              "\n",
              "        async function convertToInteractive(key) {\n",
              "          const element = document.querySelector('#df-fa5fc26e-ae45-4962-a3ea-ddb0147e01c2');\n",
              "          const dataTable =\n",
              "            await google.colab.kernel.invokeFunction('convertToInteractive',\n",
              "                                                     [key], {});\n",
              "          if (!dataTable) return;\n",
              "\n",
              "          const docLinkHtml = 'Like what you see? Visit the ' +\n",
              "            '<a target=\"_blank\" href=https://colab.research.google.com/notebooks/data_table.ipynb>data table notebook</a>'\n",
              "            + ' to learn more about interactive tables.';\n",
              "          element.innerHTML = '';\n",
              "          dataTable['output_type'] = 'display_data';\n",
              "          await google.colab.output.renderOutput(dataTable, element);\n",
              "          const docLink = document.createElement('div');\n",
              "          docLink.innerHTML = docLinkHtml;\n",
              "          element.appendChild(docLink);\n",
              "        }\n",
              "      </script>\n",
              "    </div>\n",
              "  </div>\n",
              "  "
            ]
          },
          "metadata": {},
          "execution_count": 10
        }
      ],
      "source": [
        "df.sample(3)"
      ]
    },
    {
      "cell_type": "markdown",
      "metadata": {
        "id": "5FMIRhADtZc5"
      },
      "source": [
        "## TF-IDF"
      ]
    },
    {
      "cell_type": "code",
      "execution_count": 11,
      "metadata": {
        "colab": {
          "base_uri": "https://localhost:8080/"
        },
        "id": "nOOM_tjl0fOY",
        "outputId": "fdb7f18b-2c51-4f0f-a251-15f7b3430d76"
      },
      "outputs": [
        {
          "output_type": "stream",
          "name": "stdout",
          "text": [
            "Matrix shape: (56745, 58409)\n",
            "CPU times: user 1.06 s, sys: 41.9 ms, total: 1.1 s\n",
            "Wall time: 1.11 s\n"
          ]
        }
      ],
      "source": [
        "%%time\n",
        "corpus = df['tweet_lem'].values.astype('U')\n",
        "stopwords = set(nltk_stopwords.words('english'))\n",
        "\n",
        "count_tf_idf = TfidfVectorizer(stop_words=stopwords)\n",
        "tf_idf = count_tf_idf.fit_transform(corpus)\n",
        "\n",
        "pickle.dump(count_tf_idf, open('tf_idf.pkt', 'wb'))\n",
        "\n",
        "print(\"Matrix shape:\", tf_idf.shape)"
      ]
    },
    {
      "cell_type": "markdown",
      "metadata": {
        "id": "dlX3-GNe_T81"
      },
      "source": [
        "## Model Selection"
      ]
    },
    {
      "cell_type": "code",
      "execution_count": 12,
      "metadata": {
        "id": "6XI8YcQyj4dZ"
      },
      "outputs": [],
      "source": [
        "tf_idf_train, tf_idf_test, target_train, target_test = train_test_split(\n",
        "    tf_idf, df['Toxicity'], test_size=0.25, random_state=42, shuffle=True)"
      ]
    },
    {
      "cell_type": "markdown",
      "metadata": {
        "id": "PNLVBA4q1Or0"
      },
      "source": [
        "### CatBoost"
      ]
    },
    {
      "cell_type": "code",
      "execution_count": 13,
      "metadata": {
        "id": "o6B6tAi2zxQS"
      },
      "outputs": [],
      "source": [
        "params = {\n",
        "'loss_function' : 'Logloss',\n",
        "'custom_loss' : 'AUC:hints=skip_train~false',\n",
        "'eval_metric' : 'AUC:hints=skip_train~false',\n",
        "'verbose' : 200,\n",
        "'random_seed' : 42,\n",
        "'depth': 4,\n",
        "'learning_rate': 0.4\n",
        "}"
      ]
    },
    {
      "cell_type": "code",
      "execution_count": 14,
      "metadata": {
        "id": "O_tBdHzx1U50"
      },
      "outputs": [],
      "source": [
        "model_cat = CatBoostClassifier(**params)"
      ]
    },
    {
      "cell_type": "code",
      "source": [
        "%%time\n",
        "model_cat.fit(tf_idf_train, target_train)"
      ],
      "metadata": {
        "colab": {
          "base_uri": "https://localhost:8080/"
        },
        "id": "EZrPhHCANlOS",
        "outputId": "6c8ef412-c817-4284-bf2e-05374d98caa7"
      },
      "execution_count": 15,
      "outputs": [
        {
          "output_type": "stream",
          "name": "stdout",
          "text": [
            "0:\tlearn: 0.8360787\ttotal: 261ms\tremaining: 4m 20s\n",
            "200:\tlearn: 0.9885480\ttotal: 36.7s\tremaining: 2m 25s\n",
            "400:\tlearn: 0.9952881\ttotal: 1m 11s\tremaining: 1m 46s\n",
            "600:\tlearn: 0.9972670\ttotal: 1m 46s\tremaining: 1m 10s\n",
            "800:\tlearn: 0.9981505\ttotal: 2m 22s\tremaining: 35.3s\n",
            "999:\tlearn: 0.9988460\ttotal: 2m 56s\tremaining: 0us\n",
            "CPU times: user 5min 9s, sys: 2.22 s, total: 5min 11s\n",
            "Wall time: 3min 1s\n"
          ]
        },
        {
          "output_type": "execute_result",
          "data": {
            "text/plain": [
              "<catboost.core.CatBoostClassifier at 0x7f922b3ba0d0>"
            ]
          },
          "metadata": {},
          "execution_count": 15
        }
      ]
    },
    {
      "cell_type": "code",
      "execution_count": 16,
      "metadata": {
        "colab": {
          "base_uri": "https://localhost:8080/",
          "height": 279
        },
        "id": "3qA1GSrG1vku",
        "outputId": "df21cc7c-35bf-4a00-bce1-852c03bb1d0a"
      },
      "outputs": [
        {
          "output_type": "display_data",
          "data": {
            "text/plain": [
              "<Figure size 432x288 with 1 Axes>"
            ],
            "image/png": "[encoded data removed]"
          },
          "metadata": {
            "needs_background": "light"
          }
        }
      ],
      "source": [
        "y_pred_proba = model_cat.predict_proba(tf_idf_test)[::,1]\n",
        "fpr, tpr, _ = roc_curve(target_test,  y_pred_proba)\n",
        "final_roc_auc = roc_auc_score(target_test, y_pred_proba)\n",
        "\n",
        "plt.plot(fpr,tpr,label=\"AUC=\"+str(final_roc_auc))\n",
        "plt.ylabel('True Positive Rate')\n",
        "plt.xlabel('False Positive Rate')\n",
        "plt.legend(loc=4)\n",
        "plt.show()"
      ]
    },
    {
      "cell_type": "code",
      "execution_count": 17,
      "metadata": {
        "colab": {
          "base_uri": "https://localhost:8080/",
          "height": 52
        },
        "id": "9NHbp7Lc2xQQ",
        "outputId": "c3b6ded6-4356-452e-868e-78671e17cb73"
      },
      "outputs": [
        {
          "output_type": "display_data",
          "data": {
            "text/plain": [
              "array([[0.90574787, 0.09425213]])"
            ]
          },
          "metadata": {}
        },
        {
          "output_type": "display_data",
          "data": {
            "text/plain": [
              "array([0])"
            ]
          },
          "metadata": {}
        }
      ],
      "source": [
        "sample = 'I hate you'\n",
        "sample_tfidf = count_tf_idf.transform([sample])\n",
        "display(model_cat.predict_proba(sample_tfidf))\n",
        "display(model_cat.predict(sample_tfidf))"
      ]
    },
    {
      "cell_type": "markdown",
      "metadata": {
        "id": "7qf-n8G_mQwQ"
      },
      "source": [
        "### Naive Bayes"
      ]
    },
    {
      "cell_type": "code",
      "execution_count": 18,
      "metadata": {
        "id": "mvpvDNdJ3a1O"
      },
      "outputs": [],
      "source": [
        "model_bayes = MultinomialNB()"
      ]
    },
    {
      "cell_type": "code",
      "execution_count": 19,
      "metadata": {
        "colab": {
          "base_uri": "https://localhost:8080/"
        },
        "id": "u7no40ICnhwA",
        "outputId": "2426b6ea-c83f-414a-fc62-bfb1304b0f25"
      },
      "outputs": [
        {
          "output_type": "execute_result",
          "data": {
            "text/plain": [
              "MultinomialNB()"
            ]
          },
          "metadata": {},
          "execution_count": 19
        }
      ],
      "source": [
        "model_bayes.fit(tf_idf_train, target_train)"
      ]
    },
    {
      "cell_type": "code",
      "execution_count": 20,
      "metadata": {
        "id": "82QVnYzin77l",
        "colab": {
          "base_uri": "https://localhost:8080/",
          "height": 279
        },
        "outputId": "133c7e4a-8a13-45e9-f421-0eeee217c71b"
      },
      "outputs": [
        {
          "output_type": "display_data",
          "data": {
            "text/plain": [
              "<Figure size 432x288 with 1 Axes>"
            ],
            "image/png": "[encoded data removed]"
          },
          "metadata": {
            "needs_background": "light"
          }
        }
      ],
      "source": [
        "y_pred_proba = model_bayes.predict_proba(tf_idf_test)[::,1]\n",
        "fpr, tpr, _ = roc_curve(target_test,  y_pred_proba)\n",
        "final_roc_auc = roc_auc_score(target_test, y_pred_proba)\n",
        "\n",
        "plt.plot(fpr,tpr,label=\"AUC=\"+str(final_roc_auc))\n",
        "plt.ylabel('True Positive Rate')\n",
        "plt.xlabel('False Positive Rate')\n",
        "plt.legend(loc=4)\n",
        "plt.show()"
      ]
    },
    {
      "cell_type": "code",
      "execution_count": 21,
      "metadata": {
        "id": "DqePPKtOtAWo",
        "colab": {
          "base_uri": "https://localhost:8080/",
          "height": 52
        },
        "outputId": "3fd0065a-9945-425a-a30f-0ddc32aa8236"
      },
      "outputs": [
        {
          "output_type": "display_data",
          "data": {
            "text/plain": [
              "array([[0.29246642, 0.70753358]])"
            ]
          },
          "metadata": {}
        },
        {
          "output_type": "display_data",
          "data": {
            "text/plain": [
              "array([1])"
            ]
          },
          "metadata": {}
        }
      ],
      "source": [
        "sample = 'I hate you'\n",
        "sample_tfidf = count_tf_idf.transform([sample])\n",
        "display(model_bayes.predict_proba(sample_tfidf))\n",
        "display(model_bayes.predict(sample_tfidf))"
      ]
    },
    {
      "cell_type": "markdown",
      "metadata": {
        "id": "fcHi6-2YoHbm"
      },
      "source": [
        "## Fitting and saving best model"
      ]
    },
    {
      "cell_type": "markdown",
      "metadata": {
        "id": "0zgg1sCHxgYz"
      },
      "source": [
        "Manual verification of the models showed that the naive bayes model is more suitable for our task."
      ]
    },
    {
      "cell_type": "code",
      "execution_count": 22,
      "metadata": {
        "id": "dpimlBCXoFKw"
      },
      "outputs": [],
      "source": [
        "model = MultinomialNB()\n",
        "model.fit(tf_idf,  df['Toxicity'])\n",
        "pickle.dump(model, open('model.pkt', 'wb'))"
      ]
    }
  ],
  "metadata": {
    "colab": {
      "provenance": []
    },
    "kernelspec": {
      "display_name": "Python 3",
      "name": "python3"
    },
    "language_info": {
      "name": "python"
    }
  },
  "nbformat": 4,
  "nbformat_minor": 0
}